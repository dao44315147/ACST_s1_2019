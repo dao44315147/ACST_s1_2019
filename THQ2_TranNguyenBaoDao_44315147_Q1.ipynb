{
 "cells": [
  {
   "cell_type": "code",
   "execution_count": 1,
   "metadata": {},
   "outputs": [],
   "source": [
    "import numpy as np\n",
    "import pandas as pd"
   ]
  },
  {
   "cell_type": "code",
   "execution_count": 2,
   "metadata": {},
   "outputs": [
    {
     "name": "stdout",
     "output_type": "stream",
     "text": [
      "    B    C    D    E   F    G    H\n",
      "Q  80  150  135  165  95  130  110\n",
      "L  60  100  100  120  70   90   80\n",
      "K  50  100   80  100  60   80   70\n",
      "     Q    L    K\n",
      "B   80   60   50\n",
      "C  150  100  100\n",
      "D  135  100   80\n",
      "E  165  120  100\n",
      "F   95   70   60\n",
      "G  130   90   80\n",
      "H  110   80   70\n"
     ]
    }
   ],
   "source": [
    "data = np.array([[80, 60, 50],  \n",
    "    [150, 100, 100],\n",
    "    [135, 100, 80],\n",
    "    [165, 120, 100],\n",
    "    [95, 70, 60],\n",
    "    [130, 90, 80],\n",
    "    [110, 80, 70]])\n",
    "dataset = pd.DataFrame({'B':data[0,:],'C':data[1,:],'D':data[2,:],'E':data[3,:],'F':data[4,:],'G':data[5,:],'H':data[6,:]})\n",
    "dataset.rename(index={0:'Q',1:'L',2:'K'}, inplace=True)\n",
    "print(dataset)\n",
    "print(dataset.T)"
   ]
  },
  {
   "cell_type": "code",
   "execution_count": 6,
   "metadata": {},
   "outputs": [
    {
     "name": "stdout",
     "output_type": "stream",
     "text": [
      "Question 2 \n",
      " a/ \n",
      " Mean of Q,L,K are: \n",
      "Q    123.571429\n",
      "L     88.571429\n",
      "K     77.142857\n",
      "dtype: float64\n",
      "\n",
      " Variance of Q,L,K are: \n",
      "Q    914.285714\n",
      "L    414.285714\n",
      "K    357.142857\n",
      "dtype: float64\n",
      "\n",
      " Standard deviation of Q,L,K are: \n",
      "Q    30.237158\n",
      "L    20.354010\n",
      "K    18.898224\n",
      "dtype: float64\n",
      "\n",
      " Medians of Q,L,K are:\n",
      "Q    130.0\n",
      "L     90.0\n",
      "K     80.0\n",
      "dtype: float64\n"
     ]
    }
   ],
   "source": [
    "desc_mean = dataset.T.mean()\n",
    "desc_var = dataset.T.var()\n",
    "desc_std = dataset.T.std()\n",
    "desc_median = dataset.T.median()\n",
    "\n",
    "print('Question 2','\\n','a/','\\n','Mean of Q,L,K are: ')\n",
    "print(desc_mean)\n",
    "\n",
    "print('\\n','Variance of Q,L,K are: ')\n",
    "print(desc_var)\n",
    "\n",
    "print('\\n','Standard deviation of Q,L,K are: ')\n",
    "print(desc_std)\n",
    "\n",
    "print('\\n','Medians of Q,L,K are:')\n",
    "print(desc_median)"
   ]
  },
  {
   "cell_type": "code",
   "execution_count": 7,
   "metadata": {},
   "outputs": [],
   "source": [
    "desc_var = desc_std**2"
   ]
  },
  {
   "cell_type": "code",
   "execution_count": 16,
   "metadata": {},
   "outputs": [
    {
     "name": "stdout",
     "output_type": "stream",
     "text": [
      "Question 2 \n",
      " b.1/ \n",
      " Plot Histogram of Q: \n"
     ]
    },
    {
     "data": {
      "text/plain": [
       "Text(0.5, 0, 'Output')"
      ]
     },
     "execution_count": 16,
     "metadata": {},
     "output_type": "execute_result"
    },
    {
     "data": {
      "image/png": "[encoded data removed]",
      "text/plain": [
       "<Figure size 432x288 with 1 Axes>"
      ]
     },
     "metadata": {
      "needs_background": "light"
     },
     "output_type": "display_data"
    }
   ],
   "source": [
    "import matplotlib.pyplot as plt\n",
    "print('Question 2','\\n','b.1/','\\n','Plot Histogram of Q: ')\n",
    "plt.hist(dataset.T['Q'],bins='auto')\n",
    "plt.title('Histogram of Q')\n",
    "plt.ylabel('Freq')\n",
    "plt.xlabel('Output')"
   ]
  },
  {
   "cell_type": "code",
   "execution_count": 9,
   "metadata": {},
   "outputs": [
    {
     "name": "stdout",
     "output_type": "stream",
     "text": [
      "Question 2 \n",
      " b.2/ \n",
      " Plot Histogram of L: \n"
     ]
    },
    {
     "data": {
      "text/plain": [
       "Text(0.5, 0, 'Labour')"
      ]
     },
     "execution_count": 9,
     "metadata": {},
     "output_type": "execute_result"
    },
    {
     "data": {
      "image/png": "[encoded data removed]",
      "text/plain": [
       "<Figure size 432x288 with 1 Axes>"
      ]
     },
     "metadata": {
      "needs_background": "light"
     },
     "output_type": "display_data"
    }
   ],
   "source": [
    "print('Question 2','\\n','b.2/','\\n','Plot Histogram of L: ')\n",
    "plt.hist(dataset.T['L'],bins='auto')\n",
    "plt.title('Histogram of L')\n",
    "plt.ylabel('Freq')\n",
    "plt.xlabel('Labour')"
   ]
  },
  {
   "cell_type": "code",
   "execution_count": 10,
   "metadata": {},
   "outputs": [
    {
     "name": "stdout",
     "output_type": "stream",
     "text": [
      "Question 2 \n",
      " c/ \n",
      " Model is: Q=A*(L**alpha)*(K**beta)\n",
      "\n",
      " log transfrom of model => log(Q)= log(A)+alpha*log(L)+beta*log(K)\n",
      "Log values are :\n",
      "          Q         L         K\n",
      "B  4.382027  4.094345  3.912023\n",
      "C  5.010635  4.605170  4.605170\n",
      "D  4.905275  4.605170  4.382027\n",
      "E  5.105945  4.787492  4.605170\n",
      "F  4.553877  4.248495  4.094345\n",
      "G  4.867534  4.499810  4.382027\n",
      "H  4.700480  4.382027  4.248495\n"
     ]
    }
   ],
   "source": [
    "from sklearn.linear_model import LinearRegression as lrg\n",
    "\n",
    "print('Question 2','\\n','c/','\\n','Model is: Q=A*(L**alpha)*(K**beta)')\n",
    "print('\\n','log transfrom of model => log(Q)= log(A)+alpha*log(L)+beta*log(K)')\n",
    "\n",
    "dataset_log = np.log(dataset.T)\n",
    "\n",
    "print('Log values are :')\n",
    "print(dataset_log)\n",
    "\n"
   ]
  },
  {
   "cell_type": "code",
   "execution_count": 11,
   "metadata": {},
   "outputs": [
    {
     "name": "stdout",
     "output_type": "stream",
     "text": [
      "Question 2 \n",
      " d.1/ \n",
      " The Results of Model are:\n",
      "Intercept: \n",
      " 0.14623321175616866 \n",
      "\n",
      "Coefficients: \n",
      " [0.54842747 0.50874094] \n",
      "\n"
     ]
    }
   ],
   "source": [
    "from sklearn import linear_model\n",
    "import statsmodels.api as sm\n",
    "X = dataset_log[['L','K']]\n",
    "Y = dataset_log['Q']\n",
    "regr = linear_model.LinearRegression()\n",
    "\n",
    "regr.fit(X, Y)\n",
    "\n",
    "print('Question 2','\\n','d.1/','\\n','The Results of Model are:')\n",
    "print('Intercept: \\n', regr.intercept_,'\\n')\n",
    "print('Coefficients: \\n', regr.coef_,'\\n')"
   ]
  },
  {
   "cell_type": "code",
   "execution_count": 12,
   "metadata": {
    "scrolled": true
   },
   "outputs": [
    {
     "name": "stdout",
     "output_type": "stream",
     "text": [
      "Question 2 \n",
      " d.2/ \n",
      " The Results of Model are:\n",
      "Another way to fit model it is using statmodels package \n",
      "\n",
      "                            OLS Regression Results                            \n",
      "==============================================================================\n",
      "Dep. Variable:                      Q   R-squared:                       0.998\n",
      "Model:                            OLS   Adj. R-squared:                  0.997\n",
      "Method:                 Least Squares   F-statistic:                     958.4\n",
      "Date:                Thu, 16 May 2019   Prob (F-statistic):           4.34e-06\n",
      "Time:                        17:55:29   Log-Likelihood:                 21.712\n",
      "No. Observations:                   7   AIC:                            -37.42\n",
      "Df Residuals:                       4   BIC:                            -37.59\n",
      "Df Model:                           2                                         \n",
      "Covariance Type:            nonrobust                                         \n",
      "==============================================================================\n",
      "                 coef    std err          t      P>|t|      [0.025      0.975]\n",
      "------------------------------------------------------------------------------\n",
      "Intercept      0.1462      0.114      1.282      0.269      -0.170       0.463\n",
      "L              0.5484      0.090      6.127      0.004       0.300       0.797\n",
      "K              0.5087      0.083      6.150      0.004       0.279       0.738\n",
      "==============================================================================\n",
      "Omnibus:                          nan   Durbin-Watson:                   2.801\n",
      "Prob(Omnibus):                    nan   Jarque-Bera (JB):                2.261\n",
      "Skew:                           1.352   Prob(JB):                        0.323\n",
      "Kurtosis:                       3.665   Cond. No.                         160.\n",
      "==============================================================================\n",
      "\n",
      "Warnings:\n",
      "[1] Standard Errors assume that the covariance matrix of the errors is correctly specified.\n"
     ]
    },
    {
     "name": "stderr",
     "output_type": "stream",
     "text": [
      "C:\\ProgramData\\Anaconda3\\lib\\site-packages\\statsmodels\\stats\\stattools.py:72: ValueWarning: omni_normtest is not valid with less than 8 observations; 7 samples were given.\n",
      "  \"samples were given.\" % int(n), ValueWarning)\n"
     ]
    }
   ],
   "source": [
    "import statsmodels.api as sm\n",
    "import statsmodels.formula.api as smf\n",
    "model_OLS = smf.ols('Q ~ L + K', data=dataset_log).fit()\n",
    "print('Question 2','\\n','d.2/','\\n','The Results of Model are:')\n",
    "print('Another way to fit model it is using statmodels package','\\n')\n",
    "print(model_OLS.summary())"
   ]
  },
  {
   "cell_type": "code",
   "execution_count": 13,
   "metadata": {},
   "outputs": [
    {
     "name": "stdout",
     "output_type": "stream",
     "text": [
      "Question 2 \n",
      " d.3/\n",
      "Alpha + Beta:  1.0571684057723618  is slightly larger than 1 \n",
      " => Not Constant Return but Increasing returns to scale \n",
      "  Y increases by more than the proportional change in L and K inputs\n"
     ]
    }
   ],
   "source": [
    "test = regr.coef_[0] + regr.coef_[1]\n",
    "print('Question 2','\\n','d.3/')\n",
    "print('Alpha + Beta: ',test,' is slightly larger than 1','\\n','=> Not Constant Return but Increasing returns to scale','\\n',' Y increases by more than the proportional change in L and K inputs')\n"
   ]
  },
  {
   "cell_type": "code",
   "execution_count": 14,
   "metadata": {
    "scrolled": false
   },
   "outputs": [
    {
     "name": "stdout",
     "output_type": "stream",
     "text": [
      "Question 2 \n",
      " e/\n"
     ]
    },
    {
     "data": {
      "text/plain": [
       "Text(0, 0.5, 'Residual')"
      ]
     },
     "execution_count": 14,
     "metadata": {},
     "output_type": "execute_result"
    },
    {
     "data": {
      "image/png": "[encoded data removed]",
      "text/plain": [
       "<Figure size 432x288 with 1 Axes>"
      ]
     },
     "metadata": {
      "needs_background": "light"
     },
     "output_type": "display_data"
    }
   ],
   "source": [
    "Y_head = regr.predict(X)\n",
    "Residual = Y - Y_head\n",
    "print('Question 2','\\n','e/')\n",
    "plt.scatter(Residual,Y)\n",
    "plt.title('Residual Plot')\n",
    "plt.xlabel('Predicted Value')\n",
    "plt.ylabel('Residual')"
   ]
  },
  {
   "cell_type": "code",
   "execution_count": 15,
   "metadata": {},
   "outputs": [
    {
     "name": "stdout",
     "output_type": "stream",
     "text": [
      "Question 2 \n",
      " f/\n",
      "Adjusted R squared calculated as:  0.9968763418198051\n",
      "Compare with OLS:  0.9968763418198051\n"
     ]
    }
   ],
   "source": [
    "Adj_r2 = 1-(1-regr.score(X,Y))*(len(X.index)-1)/(len(X.index)-len(X.columns)-1)\n",
    "print('Question 2','\\n','f/')\n",
    "print('Adjusted R squared calculated as: ',Adj_r2)\n",
    "print('Compare with OLS: ',model_OLS.rsquared_adj)"
   ]
  },
  {
   "cell_type": "code",
   "execution_count": 17,
   "metadata": {},
   "outputs": [
    {
     "data": {
      "text/plain": [
       "0.9979175612132034"
      ]
     },
     "execution_count": 17,
     "metadata": {},
     "output_type": "execute_result"
    }
   ],
   "source": [
    "regr.score(X,Y)"
   ]
  }
 ],
 "metadata": {
  "kernelspec": {
   "display_name": "Python 3",
   "language": "python",
   "name": "python3"
  },
  "language_info": {
   "codemirror_mode": {
    "name": "ipython",
    "version": 3
   },
   "file_extension": ".py",
   "mimetype": "text/x-python",
   "name": "python",
   "nbconvert_exporter": "python",
   "pygments_lexer": "ipython3",
   "version": "3.7.3"
  }
 },
 "nbformat": 4,
 "nbformat_minor": 2
}
